{
 "cells": [
  {
   "cell_type": "markdown",
   "metadata": {},
   "source": [
    "# Constants Module\n",
    "\n",
    "Copyright 2022 Michael George (AKA Logiqx).\n",
    "\n",
    "This file is part of [sse-results](https://github.com/Logiqx/sse-results) and is distributed under the terms of the GNU General Public License.\n",
    "\n",
    "sse-results is free software: you can redistribute it and/or modify it under the terms of the GNU General Public License as published by the Free Software Foundation, either version 3 of the License, or (at your option) any later version.\n",
    "\n",
    "sse-results is distributed in the hope that it will be useful, but WITHOUT ANY WARRANTY; without even the implied warranty of MERCHANTABILITY or FITNESS FOR A PARTICULAR PURPOSE. See the GNU General Public License for more details.\n",
    "\n",
    "You should have received a copy of the GNU General Public License along with sse-results. If not, see <https://www.gnu.org/licenses/>."
   ]
  },
  {
   "cell_type": "markdown",
   "metadata": {},
   "source": [
    "## Configuration\n",
    "\n",
    "Configuration paths and filenames"
   ]
  },
  {
   "cell_type": "code",
   "execution_count": 1,
   "metadata": {},
   "outputs": [],
   "source": [
    "EVENTS_DIR = 'events'\n",
    "CONFIG_DIR = 'config'\n",
    "SESSIONS_DIR = 'config/sessions'\n",
    "REPORTS_DIR = 'config/reports'\n",
    "GPSDATA_DIR = 'gpsdata'\n",
    "RUNDATA_DIR = 'rundata'\n",
    "RESULTS_DIR = 'results'"
   ]
  },
  {
   "cell_type": "code",
   "execution_count": 2,
   "metadata": {},
   "outputs": [],
   "source": [
    "APP_CONFIG = 'app.json'\n",
    "EVENT_CONFIG = 'event.json'\n",
    "ENTRANTS_CSV = 'entrants.csv'\n",
    "COURSES_JSON = 'courses.json'"
   ]
  },
  {
   "cell_type": "code",
   "execution_count": 3,
   "metadata": {},
   "outputs": [],
   "source": [
    "DEFAULT_COURSE = 'Default'\n",
    "COURSE_ID_TBC = '??'"
   ]
  },
  {
   "cell_type": "markdown",
   "metadata": {},
   "source": [
    "## SpeedRun\n",
    "\n",
    "Titles / field headings for a speed run"
   ]
  },
  {
   "cell_type": "code",
   "execution_count": 4,
   "metadata": {},
   "outputs": [],
   "source": [
    "T_AVERAGE = 'Average (kts)'\n",
    "T_COG = 'COG'\n",
    "T_COURSE = 'Course'\n",
    "T_DISTANCE = 'Distance (m)'\n",
    "T_DURATION = 'Duration'\n",
    "T_END_TIME = 'End Time'\n",
    "T_FILENAME = 'Filename'\n",
    "T_FINISH_TIME = 'Finish Time'\n",
    "T_NATION = 'Nation'\n",
    "T_OTHER_SPEEDS = 'Other Run Speeds (kts)'\n",
    "T_RUN = 'Run'\n",
    "T_RUN_1 = 'Run 1 (kts)'\n",
    "T_RUN_2 = 'Run 2 (kts)'\n",
    "T_RUN_3 = 'Run 3 (kts)'\n",
    "T_SAIL_NUMBER = 'Sail Number'\n",
    "T_SPEED = 'Speed (kts)'\n",
    "T_START_TIME = 'Start Time'\n",
    "T_TIME = 'Time'\n",
    "T_WEEKEND = 'Weekend'"
   ]
  },
  {
   "cell_type": "markdown",
   "metadata": {
    "collapsed": true
   },
   "source": [
    "## All Done!"
   ]
  }
 ],
 "metadata": {
  "kernelspec": {
   "display_name": "Python 3 (ipykernel)",
   "language": "python",
   "name": "python3"
  },
  "language_info": {
   "codemirror_mode": {
    "name": "ipython",
    "version": 3
   },
   "file_extension": ".py",
   "mimetype": "text/x-python",
   "name": "python",
   "nbconvert_exporter": "python",
   "pygments_lexer": "ipython3",
   "version": "3.9.7"
  }
 },
 "nbformat": 4,
 "nbformat_minor": 1
}
