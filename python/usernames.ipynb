{
 "cells": [
  {
   "cell_type": "markdown",
   "metadata": {},
   "source": [
    "# Usernames Module\n",
    "\n",
    "Copyright 2022 Michael George (AKA Logiqx).\n",
    "\n",
    "This file is part of [sse-results](https://github.com/Logiqx/sse-results) and is distributed under the terms of the GNU General Public License.\n",
    "\n",
    "sse-results is free software: you can redistribute it and/or modify it under the terms of the GNU General Public License as published by the Free Software Foundation, either version 3 of the License, or (at your option) any later version.\n",
    "\n",
    "sse-results is distributed in the hope that it will be useful, but WITHOUT ANY WARRANTY; without even the implied warranty of MERCHANTABILITY or FITNESS FOR A PARTICULAR PURPOSE. See the GNU General Public License for more details.\n",
    "\n",
    "You should have received a copy of the GNU General Public License along with sse-results. If not, see <https://www.gnu.org/licenses/>."
   ]
  },
  {
   "cell_type": "markdown",
   "metadata": {},
   "source": [
    "### Summary\n",
    "\n",
    "Adhoc script to determine if shortened usernames for WSW are unambiguous e.g. GEORG21MICHA -> GEO21MIC"
   ]
  },
  {
   "cell_type": "markdown",
   "metadata": {},
   "source": [
    "## Initialisation\n",
    "\n",
    "Basic approach to determine the project directory"
   ]
  },
  {
   "cell_type": "code",
   "execution_count": 1,
   "metadata": {},
   "outputs": [],
   "source": [
    "import os\n",
    "import glob\n",
    "\n",
    "from datetime import datetime\n",
    "import time\n",
    "\n",
    "import json\n",
    "import jinja2\n",
    "\n",
    "from PIL import Image\n",
    "\n",
    "from common import Printable, projdir\n",
    "from event import Event\n",
    "from constants import *"
   ]
  },
  {
   "cell_type": "markdown",
   "metadata": {},
   "source": [
    "## Process Years\n",
    "\n",
    "Process all available years"
   ]
  },
  {
   "cell_type": "code",
   "execution_count": 2,
   "metadata": {},
   "outputs": [],
   "source": [
    "events = {}\n",
    "existingNames = {}\n",
    "\n",
    "def processEvents():\n",
    "    '''Process all events from 2010 onwards'''\n",
    "\n",
    "    usernames = {}\n",
    "\n",
    "    eventPaths = sorted(glob.glob(os.path.join(projdir, EVENTS_DIR, '[2][0-9][1-9][0-9]*')))\n",
    "    latestEvent = os.path.basename(eventPaths[-1])[:4]\n",
    "    \n",
    "    for eventPath in eventPaths:\n",
    "        currentEvent = os.path.basename(eventPath)[:4]\n",
    "\n",
    "        if currentEvent == latestEvent or appConfig['History']['Refresh']:\n",
    "\n",
    "            if currentEvent == latestEvent:\n",
    "                verbosity = appConfig['Latest']['Verbosity']\n",
    "            else:\n",
    "                verbosity = appConfig['History']['Verbosity']\n",
    "\n",
    "            event = Event(eventPath, appConfig, existingNames=existingNames, verbosity=verbosity)\n",
    "            event.processEvent(runReports=False)\n",
    "            \n",
    "            for entrant in event.entrants.values():\n",
    "                username = entrant.entrantDict['First Name'].upper()[:3] + entrant.entrantDict['Family Name'].upper()[:3]\n",
    "                if username not in usernames:\n",
    "                    usernames[username] = set([entrant.name.name])\n",
    "                else:\n",
    "                    usernames[username].add(entrant.name.name)\n",
    "\n",
    "            events[event.year] = event\n",
    "            \n",
    "    for username, names in usernames.items():\n",
    "        if len(names) > 1:\n",
    "            print(username, names)"
   ]
  },
  {
   "cell_type": "code",
   "execution_count": 3,
   "metadata": {},
   "outputs": [
    {
     "name": "stdout",
     "output_type": "stream",
     "text": [
      "Processing 2010...\n",
      "All done!\n",
      "\n",
      "Processing 2011...\n",
      "All done!\n",
      "\n",
      "Processing 2012...\n",
      "All done!\n",
      "\n",
      "Processing 2013...\n",
      "All done!\n",
      "\n",
      "Processing 2014...\n",
      "All done!\n",
      "\n",
      "Processing 2015...\n",
      "All done!\n",
      "\n",
      "Processing 2016...\n",
      "All done!\n",
      "\n",
      "Processing 2017...\n",
      "All done!\n",
      "\n",
      "Processing 2018...\n",
      "All done!\n",
      "\n",
      "Processing 2019...\n",
      "All done!\n",
      "\n",
      "Processing 2020...\n",
      "All done!\n",
      "\n",
      "Processing 2021...\n",
      "All done!\n",
      "\n",
      "Processing 2022...\n",
      "All done!\n",
      "\n",
      "Processing 2023...\n",
      "WARNING: Martin Carter had a grouping of \"Weymouth and portland kitesurfing club\" - changed to TBC\n",
      "WARNING: Martin Carter had a grouping of \"Weymouth and portland kitesurfing club\" - changed to TBC\n",
      "INFO: 606 runs by 48 participants down course S1 on 20231007 - 11:03:37 to 15:09:25\n",
      "INFO: 423 runs by 45 participants down course S1 on 20231010 - 10:02:22 to 16:00:41\n",
      "INFO: 1044 runs by 68 participants down course S1 on 20231011 - 10:10:25 to 16:00:58\n",
      "INFO: 496 runs by 42 participants down course S1 on 20231012 - 10:44:42 to 16:00:46\n",
      "INFO: 1254 runs by 69 participants down course S1 on 20231013 - 09:00:32 to 16:00:33\n",
      "INFO: Entry type exceeded by Helena Darvelid (Wingboard, 2-Day) in 2023 - 3 sessions\n",
      "All done!\n",
      "\n",
      "JOHLAN {'John Langdown', 'John Langley'}\n",
      "EMIBUR {'Emile Jan Burnaby Lautier', 'Emile Burnaby Lautier'}\n",
      "NEITHO {'Neil Thompson', 'Neil Thorne'}\n",
      "Reports completed in 0.51 seconds\n"
     ]
    }
   ],
   "source": [
    "if __name__ == '__main__':\n",
    "    pc1 = time.perf_counter()\n",
    "    \n",
    "    # Read main config\n",
    "    filename = os.path.join(projdir, CONFIG_DIR, APP_CONFIG)\n",
    "    with open(filename, 'r', encoding='utf-8') as f:\n",
    "        jsonTxt = f.read()\n",
    "        try:\n",
    "            appConfig = json.loads(jsonTxt)\n",
    "        except:\n",
    "            logger = Printable()\n",
    "            logger.logError('Could not parse {}'.format(filename))\n",
    "            raise\n",
    "    \n",
    "    processEvents()\n",
    "    \n",
    "    pc2 = time.perf_counter()\n",
    "    print(\"Reports completed in %0.2f seconds\" % (pc2 - pc1))"
   ]
  },
  {
   "cell_type": "code",
   "execution_count": 4,
   "metadata": {},
   "outputs": [
    {
     "name": "stdout",
     "output_type": "stream",
     "text": [
      "MIC GEO\n"
     ]
    }
   ],
   "source": [
    "import re\n",
    "\n",
    "regex = re.compile('[^A-Z]')\n",
    "\n",
    "modifiedFirstName = regex.sub('', 'M.i-ch-ael'[:5].upper())\n",
    "modifiedLastName = regex.sub('', 'G.e-orge'[:5].upper())\n",
    "\n",
    "print(modifiedFirstName, modifiedLastName)"
   ]
  },
  {
   "cell_type": "markdown",
   "metadata": {
    "collapsed": true,
    "jupyter": {
     "outputs_hidden": true
    }
   },
   "source": [
    "## All Done!"
   ]
  }
 ],
 "metadata": {
  "kernelspec": {
   "display_name": "Python 3 (ipykernel)",
   "language": "python",
   "name": "python3"
  },
  "language_info": {
   "codemirror_mode": {
    "name": "ipython",
    "version": 3
   },
   "file_extension": ".py",
   "mimetype": "text/x-python",
   "name": "python",
   "nbconvert_exporter": "python",
   "pygments_lexer": "ipython3",
   "version": "3.11.4"
  }
 },
 "nbformat": 4,
 "nbformat_minor": 4
}
