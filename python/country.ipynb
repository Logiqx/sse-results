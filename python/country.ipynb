{
 "cells": [
  {
   "cell_type": "markdown",
   "metadata": {},
   "source": [
    "# Country Module\n",
    "\n",
    "Copyright 2022 Michael George (AKA Logiqx).\n",
    "\n",
    "This file is part of [sse-results](https://github.com/Logiqx/sse-results) and is distributed under the terms of the GNU General Public License.\n",
    "\n",
    "sse-results is free software: you can redistribute it and/or modify it under the terms of the GNU General Public License as published by the Free Software Foundation, either version 3 of the License, or (at your option) any later version.\n",
    "\n",
    "sse-results is distributed in the hope that it will be useful, but WITHOUT ANY WARRANTY; without even the implied warranty of MERCHANTABILITY or FITNESS FOR A PARTICULAR PURPOSE. See the GNU General Public License for more details.\n",
    "\n",
    "You should have received a copy of the GNU General Public License along with sse-results. If not, see <https://www.gnu.org/licenses/>."
   ]
  },
  {
   "cell_type": "markdown",
   "metadata": {},
   "source": [
    "## Initialisation\n",
    "\n",
    "Basic approach to determine the project directory"
   ]
  },
  {
   "cell_type": "code",
   "execution_count": 1,
   "metadata": {},
   "outputs": [],
   "source": [
    "import os\n",
    "import csv\n",
    "\n",
    "import unittest\n",
    "\n",
    "from common import Printable, testExit, projdir\n",
    "\n",
    "from constants import *"
   ]
  },
  {
   "cell_type": "markdown",
   "metadata": {},
   "source": [
    "## Load Countries into Memory\n",
    "\n",
    "Load countries into memory when the module is imported"
   ]
  },
  {
   "cell_type": "code",
   "execution_count": 2,
   "metadata": {},
   "outputs": [],
   "source": [
    "countryNames = {}\n",
    "countryAlpha2Codes = {}\n",
    "countryAlpha3Codes = {}\n",
    "countryHybridCodes = {}\n",
    "countryOlympicCodes = {}\n",
    "countrySailingCodes = {}\n",
    "\n",
    "csvPath = os.path.join(projdir, CONFIG_DIR, 'countries.csv')\n",
    "\n",
    "with open(csvPath, 'r', encoding='utf-8') as f:\n",
    "    csvReader = csv.DictReader(f)\n",
    "    for values in csvReader:\n",
    "        countryNames[values['Name']] = values\n",
    "        countryAlpha2Codes[values['Alpha-2 Code']] = values\n",
    "        countryAlpha3Codes[values['Alpha-3 Code']] = values\n",
    "        countryHybridCodes[values['WSW Code']] = values\n",
    "        countryOlympicCodes[values['IOC Code']] = values\n",
    "        countrySailingCodes[values['MNA Code']] = values"
   ]
  },
  {
   "cell_type": "markdown",
   "metadata": {
    "collapsed": true
   },
   "source": [
    "## All Done!"
   ]
  }
 ],
 "metadata": {
  "kernelspec": {
   "display_name": "Python 3 (ipykernel)",
   "language": "python",
   "name": "python3"
  },
  "language_info": {
   "codemirror_mode": {
    "name": "ipython",
    "version": 3
   },
   "file_extension": ".py",
   "mimetype": "text/x-python",
   "name": "python",
   "nbconvert_exporter": "python",
   "pygments_lexer": "ipython3",
   "version": "3.9.7"
  }
 },
 "nbformat": 4,
 "nbformat_minor": 1
}
