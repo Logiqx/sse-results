{
 "cells": [
  {
   "cell_type": "markdown",
   "id": "8d1a2710",
   "metadata": {},
   "source": [
    "# Server Module\n",
    "\n",
    "Copyright 2022 Michael George (AKA Logiqx).\n",
    "\n",
    "This file is part of [sse-results](https://github.com/Logiqx/sse-results) and is distributed under the terms of the GNU General Public License.\n",
    "\n",
    "sse-results is free software: you can redistribute it and/or modify it under the terms of the GNU General Public License as published by the Free Software Foundation, either version 3 of the License, or (at your option) any later version.\n",
    "\n",
    "sse-results is distributed in the hope that it will be useful, but WITHOUT ANY WARRANTY; without even the implied warranty of MERCHANTABILITY or FITNESS FOR A PARTICULAR PURPOSE. See the GNU General Public License for more details.\n",
    "\n",
    "You should have received a copy of the GNU General Public License along with sse-results. If not, see <https://www.gnu.org/licenses/>."
   ]
  },
  {
   "cell_type": "markdown",
   "id": "26e7c1ad",
   "metadata": {},
   "source": [
    "See https://logiqx.github.io/sse-results/tech/motion.html for further details about the thread model."
   ]
  },
  {
   "cell_type": "code",
   "execution_count": 1,
   "id": "f1f71a05",
   "metadata": {},
   "outputs": [],
   "source": [
    "import os\n",
    "import time\n",
    "\n",
    "from datetime import date, datetime, timedelta\n",
    "\n",
    "import csv\n",
    "import json\n",
    "\n",
    "import logging\n",
    "import threading\n",
    "import queue\n",
    "\n",
    "import socket\n",
    "from urllib.request import urlopen\n",
    "\n",
    "# Project modules\n",
    "from common import Printable, projdir\n",
    "from threadpool import WorkerThread, WorkerThreadPool\n",
    "from motiongps import Motion, HOST_STATUS_CONNECTED, HOST_STATUS_COMPLETED\n",
    "from constants import *"
   ]
  },
  {
   "cell_type": "markdown",
   "id": "8d9ad65e",
   "metadata": {},
   "source": [
    "## Default Values\n",
    "\n",
    "Default values, just in case of missing details in the config file"
   ]
  },
  {
   "cell_type": "code",
   "execution_count": 2,
   "id": "1f3f8642",
   "metadata": {},
   "outputs": [],
   "source": [
    "DEFAULT_LOGGING_LEVEL = logging.INFO"
   ]
  },
  {
   "cell_type": "markdown",
   "id": "6c0a9595",
   "metadata": {},
   "source": [
    "## Startup Functions\n",
    "\n",
    "Loading configuration, initialising logging, etc"
   ]
  },
  {
   "cell_type": "code",
   "execution_count": 3,
   "id": "09075ca9",
   "metadata": {},
   "outputs": [],
   "source": [
    "def loadConfig():\n",
    "    '''Read server config from JSON'''\n",
    "\n",
    "    filename = os.path.join(projdir, CONFIG_DIR, 'server.json')\n",
    "    with open(filename, 'r', encoding='utf-8') as f:\n",
    "        jsonTxt = f.read()\n",
    "        config = json.loads(jsonTxt)\n",
    "\n",
    "    return config"
   ]
  },
  {
   "cell_type": "code",
   "execution_count": 4,
   "id": "f9774a77",
   "metadata": {},
   "outputs": [],
   "source": [
    "def initLogging(config):\n",
    "    \"\"\"Initialise logging\"\"\"\n",
    "    \n",
    "    formatString = \"%(asctime)s,%(levelname)s,%(message)s\"\n",
    "    dateTimeFormat = \"%Y-%m-%d %H:%M:%S\"\n",
    "\n",
    "    try:\n",
    "        level = config['Logging']['Level']\n",
    "    except KeyError:\n",
    "        level = DEFAULT_LOGGING_LEVEL\n",
    "\n",
    "    # TODO - implement writing to file\n",
    "    logging.basicConfig(format=formatString, datefmt=dateTimeFormat, level=level)"
   ]
  },
  {
   "cell_type": "markdown",
   "id": "79842715",
   "metadata": {},
   "source": [
    "## Thread Pools\n",
    "\n",
    "Creation of thread pools and message queues"
   ]
  },
  {
   "cell_type": "code",
   "execution_count": 5,
   "id": "8f539473",
   "metadata": {},
   "outputs": [],
   "source": [
    "def createThreadPools(config, motions, stopEvent):\n",
    "    \"\"\"Create the thread pools, including message queues\"\"\"\n",
    "\n",
    "    threadPools = []\n",
    "\n",
    "    # Detection   \n",
    "    detectionInQueue = queue.Queue()\n",
    "    detectionOutQueue = queue.Queue()\n",
    "    detectionThreadPool = DetectionThreadPool(config, motions, stopEvent, detectionInQueue, detectionOutQueue)\n",
    "    threadPools.append(detectionThreadPool)\n",
    "\n",
    "    # Inspection    \n",
    "    inspectionInQueue = detectionOutQueue\n",
    "    inspectionOutQueue = queue.Queue()  \n",
    "    inspectionThreadPool = InspectionThreadPool(config, motions, stopEvent, inspectionInQueue, inspectionOutQueue)\n",
    "    threadPools.append(inspectionThreadPool)\n",
    "\n",
    "    # Download\n",
    "    downloadInQueue = inspectionOutQueue\n",
    "    downloadOutQueue = queue.Queue()\n",
    "    downloadThreadPool = DownloadThreadPool(config, motions, stopEvent, downloadInQueue, downloadOutQueue)\n",
    "    threadPools.append(downloadThreadPool)\n",
    "\n",
    "    # Disconnect\n",
    "    disconnectionInQueue = queue.Queue()\n",
    "    disconnectionOutQueue = queue.Queue()\n",
    "    disconnectionThreadPool = DisconnectionThreadPool(config, motions, stopEvent, disconnectionInQueue, disconnectionOutQueue)\n",
    "    threadPools.append(disconnectionThreadPool)\n",
    "\n",
    "    return threadPools"
   ]
  },
  {
   "cell_type": "markdown",
   "id": "ca7c0b99",
   "metadata": {},
   "source": [
    "## Motions\n",
    "\n",
    "Creating of Motion objects in a dictionary"
   ]
  },
  {
   "cell_type": "code",
   "execution_count": 6,
   "id": "2462cb7e",
   "metadata": {},
   "outputs": [],
   "source": [
    "def dateRange(startDate, endDate):\n",
    "    '''Determine range of dates'''\n",
    "\n",
    "    dates = []\n",
    "\n",
    "    for i in range(int((endDate - startDate).days) + 1):\n",
    "        dates.append(startDate + timedelta(days = i))\n",
    "        \n",
    "    return dates"
   ]
  },
  {
   "cell_type": "code",
   "execution_count": 7,
   "id": "a6b0273f",
   "metadata": {},
   "outputs": [],
   "source": [
    "def readMotions(config):\n",
    "    '''Read Motions from CSV file'''\n",
    "    \n",
    "    motions = {}\n",
    "\n",
    "    year = datetime.now().year\n",
    "    csvPath = os.path.join(projdir, EVENTS_DIR, str(year), CONFIG_DIR, 'motions.csv')\n",
    "\n",
    "    with open(csvPath, 'r', encoding='utf-8') as f:\n",
    "        csvReader = csv.DictReader(f)\n",
    "        for motionUser in csvReader:\n",
    "            motionId = int(motionUser['Motion ID'])\n",
    "            fileId = motionUser['File ID']\n",
    "\n",
    "            startDate = datetime.strptime(motionUser['Start Date'], '%Y-%m-%d')\n",
    "            endDate = datetime.strptime(motionUser['End Date'], '%Y-%m-%d')\n",
    "            \n",
    "            if motionId not in motions:\n",
    "                motion = Motion(config, motionId, fileId=fileId)              \n",
    "                motions[motionId] = motion\n",
    "            else:\n",
    "                motion = motions[motionId]\n",
    "\n",
    "            for sessionDate in dateRange(startDate, endDate):\n",
    "                sessionDate = sessionDate.strftime('%Y-%m-%d')\n",
    "\n",
    "                # Note: Motion ID of zero (or negative) is a dummy record in the config\n",
    "                if motionId > 0:\n",
    "                    if sessionDate in motion.users:\n",
    "                        logging.warning(\"Motion %i is assigned to multiple people on %s\", motionId, sessionDate)\n",
    "                    else:\n",
    "                        motion.users[sessionDate] = motionUser\n",
    "     \n",
    "    return motions"
   ]
  },
  {
   "cell_type": "markdown",
   "id": "c4f851ff",
   "metadata": {},
   "source": [
    "## Detection Thread Pool\n",
    "\n",
    "Detect new motions appearing on the network"
   ]
  },
  {
   "cell_type": "code",
   "execution_count": 8,
   "id": "4df961fd",
   "metadata": {},
   "outputs": [],
   "source": [
    "class DetectionThread(WorkerThread):\n",
    "    \"\"\"Thread pool worker to detect a motion appearing on the network\"\"\"\n",
    "\n",
    "    def process(self, motion):\n",
    "        \"\"\"Do the actual processing of a single item\"\"\"\n",
    "\n",
    "        if motion.status <= 0:\n",
    "            logging.debug(\"%s is processing %s\", self.name, motion.hostname)\n",
    "        \n",
    "            addrInfo = motion.getAddrInfo()\n",
    "            \n",
    "            if addrInfo:\n",
    "                logging.debug(\"%s detected at %s\", motion.hostname, addrInfo[0])\n",
    "\n",
    "                status = motion.getStatus(timeout=self.timeout)\n",
    "                \n",
    "                if status == HOST_STATUS_CONNECTED:\n",
    "                    logging.info(\"%s detected and is accepting connections\", motion.hostname)\n",
    "        \n",
    "                    self.outQueue.put(motion)\n",
    "\n",
    "                else:\n",
    "                    logging.debug(\"%s detected but is not accepting connections - status %i\", motion.hostname, status)\n",
    "            \n",
    "            else:\n",
    "                logging.debug(\"%s not detected (address information unavailable)\", motion.hostname)"
   ]
  },
  {
   "cell_type": "code",
   "execution_count": 9,
   "id": "e1a7c5b1",
   "metadata": {},
   "outputs": [],
   "source": [
    "class DetectionThreadPool(WorkerThreadPool):\n",
    "    \"\"\"Thread pool manager to detect motions appearing on the network\"\"\"\n",
    "\n",
    "    def __init__(self, config, motions, stopEvent, inQueue, outQueue):\n",
    "        \"\"\"Simple initialisation\"\"\"\n",
    "        \n",
    "        super().__init__(config, motions, stopEvent, inQueue, outQueue, DetectionThread)\n",
    "        \n",
    "\n",
    "    def process(self):\n",
    "        \"\"\"The thread pool manager puts motions onto the in queue for workers to consume\"\"\"\n",
    "        \n",
    "        logging.debug(\"%s is queuing motions\", self.name)\n",
    "        \n",
    "        count = 0\n",
    "        for motion in self.motions.values():\n",
    "            if motion.status <= 0:\n",
    "                logging.debug(\"%s is queuing %s\", self.name, motion.hostname)\n",
    "                self.inQueue.put(motion)\n",
    "                count += 1\n",
    "                \n",
    "        return count"
   ]
  },
  {
   "cell_type": "markdown",
   "id": "76972922",
   "metadata": {},
   "source": [
    "## Motion Inspection Thread\n",
    "\n",
    "Inspect new motions appearing on the network"
   ]
  },
  {
   "cell_type": "code",
   "execution_count": 10,
   "id": "59b9fa06",
   "metadata": {},
   "outputs": [],
   "source": [
    "class InspectionThread(WorkerThread):\n",
    "    \"\"\"Thread pool worker to inspect a motion appearing on the network\"\"\"\n",
    "\n",
    "    def process(self, motion):\n",
    "        \"\"\"Do the actual inspection of a single motion\"\"\"\n",
    "        \n",
    "        logging.debug(\"%s is processing %s\", self.name, motion.hostname)\n",
    "\n",
    "        self.motion = motion\n",
    "\n",
    "        motion.fetchInfo()\n",
    "        motion.checkInfo()\n",
    "        \n",
    "        motion.fetchSettings()\n",
    "        motion.checkSettings()\n",
    "        \n",
    "        motion.fetchLogs()\n",
    "\n",
    "        # Change to HOST_STATUS_INSPECTED when downloads are implemented\n",
    "        motion.status = HOST_STATUS_COMPLETED\n",
    "        \n",
    "        logging.debug(\"%s successfully processed %s\", self.name, motion.hostname)\n",
    "\n",
    "        #self.outQueue.put(motion)"
   ]
  },
  {
   "cell_type": "code",
   "execution_count": 11,
   "id": "d465068e",
   "metadata": {},
   "outputs": [],
   "source": [
    "class InspectionThreadPool(WorkerThreadPool):\n",
    "    \"\"\"Thread pool manager to inspect motions appearing on the network\"\"\"\n",
    "\n",
    "    def __init__(self, config, motions, stopEvent, inQueue, outQueue):\n",
    "        \"\"\"Simple initialisation\"\"\"\n",
    "        \n",
    "        super().__init__(config, motions, stopEvent, inQueue, outQueue, InspectionThread)\n",
    "\n",
    "\n",
    "    def main(self):\n",
    "        \"\"\"There is no processing to be done in an unmanaged pool\"\"\"\n",
    "\n",
    "        pass"
   ]
  },
  {
   "cell_type": "markdown",
   "id": "6b37c27c",
   "metadata": {},
   "source": [
    "## Download Thread Pool\n",
    "\n",
    "Download new tracks for Motions"
   ]
  },
  {
   "cell_type": "code",
   "execution_count": 12,
   "id": "40796d83",
   "metadata": {},
   "outputs": [],
   "source": [
    "class DownloadThread(WorkerThread):\n",
    "    \"\"\"Thread pool worker to download tracks from a motion\"\"\"\n",
    "\n",
    "    def process(self, motion):\n",
    "        \"\"\"Do the actual downloads for a single motion\"\"\"\n",
    "        \n",
    "        logging.debug(\"%s is processing %s\", self.name, motion.hostname)\n",
    "        \n",
    "        self.outQueue.put(motion)"
   ]
  },
  {
   "cell_type": "code",
   "execution_count": 13,
   "id": "40f1900d",
   "metadata": {},
   "outputs": [],
   "source": [
    "class DownloadThreadPool(WorkerThreadPool):\n",
    "    \"\"\"Thread pool manager to download tracks from motions\"\"\"\n",
    "\n",
    "    def __init__(self, config, motions, stopEvent, inQueue, outQueue):\n",
    "        \"\"\"Simple initialisation\"\"\"\n",
    "        \n",
    "        super().__init__(config, motions, stopEvent, inQueue, outQueue, DownloadThread)\n",
    "\n",
    "\n",
    "    def main(self):\n",
    "        \"\"\"There is no processing to be done in an unmanaged pool\"\"\"\n",
    "\n",
    "        pass"
   ]
  },
  {
   "cell_type": "markdown",
   "id": "f658e581",
   "metadata": {},
   "source": [
    "## Disconnection Thread Pool\n",
    "\n",
    "Detect motions disconnecting from the network"
   ]
  },
  {
   "cell_type": "code",
   "execution_count": 14,
   "id": "672cc20c",
   "metadata": {},
   "outputs": [],
   "source": [
    "class DisconnectionThread(WorkerThread):\n",
    "    \"\"\"Thread pool worker to detect a motion disconnected from the network\"\"\"\n",
    "\n",
    "    def process(self, motion):\n",
    "        \"\"\"Do the actual processing of a single item\"\"\"\n",
    "        \n",
    "        logging.debug(\"%s is processing %s\", self.name, motion.hostname)\n",
    "        \n",
    "        status = motion.getStatus(timeout=self.timeout)\n",
    "\n",
    "        if motion.status > 0:\n",
    "            logging.debug(\"%s is still connected\", motion.hostname)\n",
    "            \n",
    "            # Note that motion.getStatus() will have nuked the status, thus need to set back to HOST_STATUS_COMPLETED\n",
    "            motion.status = HOST_STATUS_COMPLETED\n",
    "\n",
    "        else:\n",
    "            logging.info(\"%s has been disconnected\", motion.hostname)"
   ]
  },
  {
   "cell_type": "code",
   "execution_count": 15,
   "id": "8e190050",
   "metadata": {},
   "outputs": [],
   "source": [
    "class DisconnectionThreadPool(WorkerThreadPool):\n",
    "    \"\"\"Thread pool manager to detect motions disconnected from the network\"\"\"\n",
    "\n",
    "    def __init__(self, config, motions, stopEvent, inQueue, outQueue):\n",
    "        \"\"\"Simple initialisation\"\"\"\n",
    "        \n",
    "        super().__init__(config, motions, stopEvent, inQueue, outQueue, DisconnectionThread)\n",
    "\n",
    "\n",
    "    def process(self):\n",
    "        \"\"\"The thread pool manager puts motions onto the in queue for workers to consume\"\"\"\n",
    "        \n",
    "        logging.debug(\"%s queuing motions\", self.name)\n",
    "        \n",
    "        count = 0\n",
    "        for motion in self.motions.values():\n",
    "            if motion.status == HOST_STATUS_COMPLETED:\n",
    "                logging.debug(\"%s is queuing %s\", self.name, motion.hostname)\n",
    "                self.inQueue.put(motion)\n",
    "                count +=1\n",
    "            \n",
    "        return count"
   ]
  },
  {
   "cell_type": "markdown",
   "id": "0f84c916",
   "metadata": {},
   "source": [
    "## Main Function\n",
    "\n",
    "Startup and shutdown of all threads"
   ]
  },
  {
   "cell_type": "code",
   "execution_count": 16,
   "id": "10a760d9",
   "metadata": {
    "scrolled": true
   },
   "outputs": [
    {
     "name": "stderr",
     "output_type": "stream",
     "text": [
      "2022-10-08 14:56:05,INFO,Starting thread pools\n",
      "2022-10-08 14:56:05,INFO,Thread pools started\n",
      "2022-10-08 14:56:05,INFO,motion-611 detected and is accepting connections\n",
      "2022-10-08 14:56:05,INFO,motion-615 detected and is accepting connections\n",
      "2022-10-08 14:56:05,INFO,motion-611 battery level is 62%\n",
      "2022-10-08 14:56:06,INFO,motion-615 battery level is 69%\n",
      "2022-10-08 14:56:07,INFO,Keyboard interrupt\n",
      "2022-10-08 14:56:07,INFO,Stopping thread pools\n",
      "2022-10-08 14:56:08,INFO,Thread pools stopped\n"
     ]
    }
   ],
   "source": [
    "def main():\n",
    "    \"\"\"Main function to start all of the thread pools\"\"\"\n",
    "\n",
    "    # Read config\n",
    "    config = loadConfig()\n",
    "\n",
    "    # Initialise logging module\n",
    "    initLogging(config)\n",
    "    \n",
    "    # Read Motion data\n",
    "    motions = readMotions(config)\n",
    "\n",
    "    # Global event so that all threads can exit gracefully\n",
    "    stopEvent = threading.Event()\n",
    "    \n",
    "    # Create the thread pools, including the message queues, etc.\n",
    "    logging.debug(\"Creating thread pools\")\n",
    "    threadPools = createThreadPools(config, motions, stopEvent)\n",
    "\n",
    "    # Start up all of the thread pools\n",
    "    abort = True\n",
    "    try:\n",
    "        logging.info(\"Starting thread pools\")\n",
    "\n",
    "        for threadPool in threadPools:\n",
    "            threadPool.start()\n",
    "\n",
    "        logging.info(\"Thread pools started\")\n",
    "\n",
    "        abort = False\n",
    "    \n",
    "    except Exception:\n",
    "        logging.error(\"Thread pools failed to start\")\n",
    "\n",
    "    # Just sleep until a keyboard interrupt occurs\n",
    "    while not abort:\n",
    "        try:\n",
    "            time.sleep(10)\n",
    "        \n",
    "        # Intercept keyboard interrupts to ensure that all threads are properly stopped, prior to exit\n",
    "        except KeyboardInterrupt:\n",
    "            logging.info(\"Keyboard interrupt\")\n",
    "            abort = True\n",
    "\n",
    "    # Stop threads gracefully\n",
    "    logging.info(\"Stopping thread pools\")\n",
    "    stopEvent.set()\n",
    "    for threadPool in threadPools:\n",
    "        threadPool.join()\n",
    "    logging.info(\"Thread pools stopped\")\n",
    "\n",
    "\n",
    "if __name__ == '__main__':\n",
    "    main()"
   ]
  },
  {
   "cell_type": "code",
   "execution_count": null,
   "id": "1dc96862",
   "metadata": {},
   "outputs": [],
   "source": []
  }
 ],
 "metadata": {
  "kernelspec": {
   "display_name": "Python 3 (ipykernel)",
   "language": "python",
   "name": "python3"
  },
  "language_info": {
   "codemirror_mode": {
    "name": "ipython",
    "version": 3
   },
   "file_extension": ".py",
   "mimetype": "text/x-python",
   "name": "python",
   "nbconvert_exporter": "python",
   "pygments_lexer": "ipython3",
   "version": "3.9.7"
  }
 },
 "nbformat": 4,
 "nbformat_minor": 5
}
