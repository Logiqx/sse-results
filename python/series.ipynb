{
 "cells": [
  {
   "cell_type": "markdown",
   "metadata": {},
   "source": [
    "# Series Module\n",
    "\n",
    "Copyright 2022 Michael George (AKA Logiqx).\n",
    "\n",
    "This file is part of [sse-results](https://github.com/Logiqx/sse-results) and is distributed under the terms of the GNU General Public License.\n",
    "\n",
    "sse-results is free software: you can redistribute it and/or modify it under the terms of the GNU General Public License as published by the Free Software Foundation, either version 3 of the License, or (at your option) any later version.\n",
    "\n",
    "sse-results is distributed in the hope that it will be useful, but WITHOUT ANY WARRANTY; without even the implied warranty of MERCHANTABILITY or FITNESS FOR A PARTICULAR PURPOSE. See the GNU General Public License for more details.\n",
    "\n",
    "You should have received a copy of the GNU General Public License along with sse-results. If not, see <https://www.gnu.org/licenses/>."
   ]
  },
  {
   "cell_type": "markdown",
   "metadata": {},
   "source": [
    "## Initialisation\n",
    "\n",
    "Basic approach to determine the project directory"
   ]
  },
  {
   "cell_type": "code",
   "execution_count": 10,
   "metadata": {},
   "outputs": [],
   "source": [
    "import os\n",
    "import glob\n",
    "\n",
    "from datetime import datetime\n",
    "import time\n",
    "\n",
    "import json\n",
    "import jinja2\n",
    "\n",
    "from PIL import Image\n",
    "\n",
    "from common import Printable, projdir\n",
    "from event import Event\n",
    "from constants import *"
   ]
  },
  {
   "cell_type": "markdown",
   "metadata": {},
   "source": [
    "## Process Years\n",
    "\n",
    "Process all available years"
   ]
  },
  {
   "cell_type": "code",
   "execution_count": 11,
   "metadata": {},
   "outputs": [],
   "source": [
    "events = {}\n",
    "existingNames = {}\n",
    "\n",
    "def processEvents():\n",
    "    '''Process all events from 2010 onwards'''\n",
    "\n",
    "    eventPaths = sorted(glob.glob(os.path.join(projdir, EVENTS_DIR, '[2][0-9][1-9][0-9]')))\n",
    "    currYear = datetime.today().year\n",
    "    for eventPath in eventPaths:\n",
    "        eventYear = int(os.path.basename(eventPath))\n",
    "\n",
    "        if eventYear == currYear or appConfig['History']['Refresh']:\n",
    "            if eventYear == currYear:\n",
    "                verbosity = appConfig['Latest']['Verbosity']\n",
    "            else:\n",
    "                verbosity = appConfig['History']['Verbosity']\n",
    "\n",
    "            event = Event(eventPath, appConfig, existingNames=existingNames, verbosity=verbosity)\n",
    "            event.processEvent(runReports=False)\n",
    "\n",
    "            events[event.year] = event"
   ]
  },
  {
   "cell_type": "code",
   "execution_count": 12,
   "metadata": {},
   "outputs": [
    {
     "name": "stdout",
     "output_type": "stream",
     "text": [
      "Processing 2010...\n",
      "All done!\n",
      "\n",
      "Processing 2011...\n",
      "All done!\n",
      "\n",
      "Processing 2012...\n",
      "All done!\n",
      "\n",
      "Processing 2013...\n",
      "All done!\n",
      "\n",
      "Processing 2014...\n",
      "All done!\n",
      "\n",
      "Processing 2015...\n",
      "All done!\n",
      "\n",
      "Processing 2016...\n",
      "All done!\n",
      "\n",
      "Processing 2017...\n",
      "All done!\n",
      "\n",
      "Processing 2018...\n",
      "All done!\n",
      "\n",
      "Processing 2019...\n",
      "All done!\n",
      "\n",
      "Processing 2020...\n",
      "All done!\n",
      "\n",
      "Processing 2021...\n",
      "All done!\n",
      "\n",
      "Processing 2022...\n",
      "All done!\n",
      "\n",
      "Reports completed in 0.53 seconds\n"
     ]
    }
   ],
   "source": [
    "if __name__ == '__main__':\n",
    "    pc1 = time.perf_counter()\n",
    "    \n",
    "    # Read main config\n",
    "    filename = os.path.join(projdir, CONFIG_DIR, APP_CONFIG)\n",
    "    with open(filename, 'r', encoding='utf-8') as f:\n",
    "        jsonTxt = f.read()\n",
    "        try:\n",
    "            appConfig = json.loads(jsonTxt)\n",
    "        except:\n",
    "            logger = Printable()\n",
    "            logger.logError('Could not parse {}'.format(filename))\n",
    "            raise\n",
    "    \n",
    "    processEvents()\n",
    "    \n",
    "    pc2 = time.perf_counter()\n",
    "    print(\"Reports completed in %0.2f seconds\" % (pc2 - pc1))"
   ]
  },
  {
   "cell_type": "markdown",
   "metadata": {
    "collapsed": true
   },
   "source": [
    "## All Done!"
   ]
  }
 ],
 "metadata": {
  "kernelspec": {
   "display_name": "Python 3 (ipykernel)",
   "language": "python",
   "name": "python3"
  },
  "language_info": {
   "codemirror_mode": {
    "name": "ipython",
    "version": 3
   },
   "file_extension": ".py",
   "mimetype": "text/x-python",
   "name": "python",
   "nbconvert_exporter": "python",
   "pygments_lexer": "ipython3",
   "version": "3.9.7"
  }
 },
 "nbformat": 4,
 "nbformat_minor": 1
}
