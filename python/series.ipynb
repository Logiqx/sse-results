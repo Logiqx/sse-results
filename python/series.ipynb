{
 "cells": [
  {
   "cell_type": "markdown",
   "metadata": {},
   "source": [
    "# Series Module\n",
    "\n",
    "Copyright 2022 Michael George (AKA Logiqx).\n",
    "\n",
    "This file is part of [sse-results](https://github.com/Logiqx/sse-results) and is distributed under the terms of the GNU General Public License.\n",
    "\n",
    "sse-results is free software: you can redistribute it and/or modify it under the terms of the GNU General Public License as published by the Free Software Foundation, either version 3 of the License, or (at your option) any later version.\n",
    "\n",
    "sse-results is distributed in the hope that it will be useful, but WITHOUT ANY WARRANTY; without even the implied warranty of MERCHANTABILITY or FITNESS FOR A PARTICULAR PURPOSE. See the GNU General Public License for more details.\n",
    "\n",
    "You should have received a copy of the GNU General Public License along with sse-results. If not, see <https://www.gnu.org/licenses/>."
   ]
  },
  {
   "cell_type": "markdown",
   "metadata": {},
   "source": [
    "## Initialisation\n",
    "\n",
    "Basic approach to determine the project directory"
   ]
  },
  {
   "cell_type": "code",
   "execution_count": 67,
   "metadata": {},
   "outputs": [],
   "source": [
    "import os\n",
    "import glob\n",
    "\n",
    "from datetime import datetime\n",
    "import time\n",
    "\n",
    "import json\n",
    "import jinja2\n",
    "\n",
    "from PIL import Image\n",
    "\n",
    "from common import Printable, projdir\n",
    "from event import Event\n",
    "from constants import *"
   ]
  },
  {
   "cell_type": "markdown",
   "metadata": {},
   "source": [
    "## Leg Class\n",
    "\n",
    "Process leg held during a single session"
   ]
  },
  {
   "cell_type": "code",
   "execution_count": 68,
   "metadata": {},
   "outputs": [],
   "source": [
    "class Leg(Printable):\n",
    "    def __init__(self, series, session, legId):\n",
    "        '''Initialise leg object'''\n",
    "\n",
    "        self.series = series\n",
    "        self.session = session\n",
    "        self.legId = legId\n",
    "\n",
    "\n",
    "    def determineValidity(self):\n",
    "        '''Determine if the lef if valid'''\n",
    "\n",
    "        courses = set()\n",
    "\n",
    "        self.participants = 0\n",
    "\n",
    "        for entrantId, runs in self.session.runs.items():\n",
    "            if entrantId in self.series.entrants:\n",
    "                self.participants += 1\n",
    "\n",
    "                for run in runs:\n",
    "                    course = run.course.courseType\n",
    "                    if course not in courses:\n",
    "                        courses.add(course)\n",
    "\n",
    "        print(self.session.date, self.legId, len(self.series.entrants), self.participants, courses)\n",
    "\n",
    "\n",
    "    def processLeg(self):\n",
    "        '''Process leg held during the session'''\n",
    "\n",
    "        if self.series.validity:\n",
    "            pass           \n",
    "        else:\n",
    "            self.determineValidity()"
   ]
  },
  {
   "cell_type": "markdown",
   "metadata": {},
   "source": [
    "## Series Class\n",
    "\n",
    "Process series held during a single event"
   ]
  },
  {
   "cell_type": "code",
   "execution_count": 69,
   "metadata": {},
   "outputs": [],
   "source": [
    "class Series(Printable):\n",
    "    def __init__(self, event, seriesId, fleetId=None, validity=None):\n",
    "        '''Initialise series object'''\n",
    "\n",
    "        self.event = event\n",
    "        self.seriesId = seriesId\n",
    "        self.fleetId = fleetId\n",
    "        self.validity = validity\n",
    "\n",
    "        self.seriesConfig = self.event.eventConfig['Series'][seriesId]\n",
    "\n",
    "        seriesFilter = self.seriesConfig['Filter']\n",
    "\n",
    "        # fleetID == None for a \"verification\" series\n",
    "        if fleetId:\n",
    "            fleetFilter = self.seriesConfig['Fleets'][self.fleetId]\n",
    "        else:\n",
    "            fleetFilter = self.seriesConfig['Validity']['Filter']\n",
    "\n",
    "        # Verification series may not have an additional filter criteria\n",
    "        if fleetFilter:\n",
    "            filterCriteria = ','.join((seriesFilter, fleetFilter))\n",
    "        else:\n",
    "            filterCriteria = seriesFilter\n",
    "\n",
    "        self.entrants = self.event.entrantsFilter.getEntrants(filterCriteria)\n",
    "        \n",
    "        self.legs = []\n",
    "\n",
    "\n",
    "    def processSeries(self):\n",
    "        '''Process series held during the event'''\n",
    "\n",
    "        print(self.event.year, self.seriesId, self.fleetId, len(self.entrants))\n",
    "\n",
    "        if self.validity is None:\n",
    "            # Validity leg will read the config files\n",
    "            for sessionId, session in self.event.sessions.items():\n",
    "                filename = os.path.join(session.configPath, self.seriesId.lower() + '.json')\n",
    "                with open(filename, 'r', encoding='utf-8') as f:\n",
    "                    jsonTxt = f.read()\n",
    "                    try:\n",
    "                        legsConfig = json.loads(jsonTxt)\n",
    "                    except:\n",
    "                        self.logError('Could not parse {}'.format(filename))\n",
    "                        raise\n",
    "\n",
    "                for legId in legsConfig.keys():\n",
    "                    leg = Leg(self, session, legId)\n",
    "                    leg.processLeg()\n",
    "\n",
    "                    self.legs.append(leg)\n",
    "\n",
    "        else:\n",
    "            # Actual leg will use the validity leg as a template\n",
    "            for validityLeg in self.validity.legs:\n",
    "                leg = Leg(self, validityLeg.session, validityLeg.legId)\n",
    "                leg.processLeg()\n",
    "\n",
    "                self.legs.append(leg)"
   ]
  },
  {
   "cell_type": "markdown",
   "metadata": {},
   "source": [
    "## Process Years\n",
    "\n",
    "Process all available years"
   ]
  },
  {
   "cell_type": "code",
   "execution_count": 70,
   "metadata": {},
   "outputs": [],
   "source": [
    "events = {}\n",
    "existingNames = {}\n",
    "\n",
    "def processEvents():\n",
    "    '''Process all events from 2010 onwards'''\n",
    "\n",
    "    eventPaths = sorted(glob.glob(os.path.join(projdir, EVENTS_DIR, '[2][0-9][1][0]')))\n",
    "    currYear = datetime.today().year\n",
    "    for eventPath in eventPaths:\n",
    "        eventYear = int(os.path.basename(eventPath))\n",
    "\n",
    "        if eventYear == currYear or appConfig['History']['Refresh']:\n",
    "            if eventYear == currYear:\n",
    "                verbosity = appConfig['Latest']['Verbosity']\n",
    "            else:\n",
    "                verbosity = appConfig['History']['Verbosity']\n",
    "\n",
    "            event = Event(eventPath, appConfig, existingNames=existingNames, verbosity=verbosity)\n",
    "            event.processEvent(runReports=False)\n",
    "            \n",
    "            if 'Series' in event.eventConfig:\n",
    "                for seriesId in event.eventConfig['Series'].keys():\n",
    "                    validity = Series(event, seriesId)\n",
    "                    validity.processSeries()\n",
    "\n",
    "                    for fleetId in event.eventConfig['Series'][seriesId]['Fleets'].keys():\n",
    "                        series = Series(event, seriesId, fleetId=fleetId, validity=validity)\n",
    "                        series.processSeries()\n",
    "\n",
    "            events[event.year] = event"
   ]
  },
  {
   "cell_type": "code",
   "execution_count": 71,
   "metadata": {},
   "outputs": [
    {
     "name": "stdout",
     "output_type": "stream",
     "text": [
      "Processing 2010...\n",
      "All done!\n",
      "\n",
      "2010 ISWC None 65\n",
      "20101016 Round 65 23 {'Harbour'}\n",
      "20101017 Round 65 6 {'Harbour'}\n",
      "20101018 Round 65 30 {'Harbour', 'Shore'}\n",
      "20101019 Round 65 42 {'Harbour', 'Shore'}\n",
      "20101020 Round 65 5 {'Harbour'}\n",
      "20101021 Round 65 7 {'Harbour'}\n",
      "20101022 Round 65 30 {'Harbour', 'Shore'}\n",
      "2010 ISWC Men 65\n",
      "2010 ISWC Women 2\n",
      "2010 UKWA None 51\n",
      "20101016 Round 51 19 {'Harbour'}\n",
      "20101017 Round 51 5 {'Harbour'}\n",
      "20101018 Round 51 23 {'Harbour', 'Shore'}\n",
      "20101019 Round 51 34 {'Harbour', 'Shore'}\n",
      "20101020 Round 51 4 {'Harbour'}\n",
      "20101021 Round 51 6 {'Harbour'}\n",
      "20101022 Round 51 25 {'Harbour', 'Shore'}\n",
      "2010 UKWA Men 49\n",
      "2010 UKWA Women 2\n",
      "Reports completed in 0.06 seconds\n"
     ]
    }
   ],
   "source": [
    "if __name__ == '__main__':\n",
    "    pc1 = time.perf_counter()\n",
    "    \n",
    "    # Read main config\n",
    "    filename = os.path.join(projdir, CONFIG_DIR, APP_CONFIG)\n",
    "    with open(filename, 'r', encoding='utf-8') as f:\n",
    "        jsonTxt = f.read()\n",
    "        try:\n",
    "            appConfig = json.loads(jsonTxt)\n",
    "        except:\n",
    "            logger = Printable()\n",
    "            logger.logError('Could not parse {}'.format(filename))\n",
    "            raise\n",
    "    \n",
    "    processEvents()\n",
    "    \n",
    "    pc2 = time.perf_counter()\n",
    "    print(\"Reports completed in %0.2f seconds\" % (pc2 - pc1))"
   ]
  },
  {
   "cell_type": "markdown",
   "metadata": {
    "collapsed": true
   },
   "source": [
    "## All Done!"
   ]
  }
 ],
 "metadata": {
  "kernelspec": {
   "display_name": "Python 3 (ipykernel)",
   "language": "python",
   "name": "python3"
  },
  "language_info": {
   "codemirror_mode": {
    "name": "ipython",
    "version": 3
   },
   "file_extension": ".py",
   "mimetype": "text/x-python",
   "name": "python",
   "nbconvert_exporter": "python",
   "pygments_lexer": "ipython3",
   "version": "3.9.7"
  }
 },
 "nbformat": 4,
 "nbformat_minor": 1
}
